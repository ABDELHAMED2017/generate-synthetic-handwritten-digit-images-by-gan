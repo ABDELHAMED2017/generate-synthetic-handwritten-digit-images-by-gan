{
  "nbformat": 4,
  "nbformat_minor": 0,
  "metadata": {
    "colab": {
      "name": "cDCGAN.ipynb",
      "version": "0.3.2",
      "provenance": []
    },
    "kernelspec": {
      "name": "python3",
      "display_name": "Python 3"
    },
    "accelerator": "GPU"
  },
  "cells": [
    {
      "metadata": {
        "id": "S9_vgfdxISgG",
        "colab_type": "text"
      },
      "cell_type": "markdown",
      "source": [
        "# Conditional DCGAN"
      ]
    },
    {
      "metadata": {
        "id": "5KmzubwgIovr",
        "colab_type": "text"
      },
      "cell_type": "markdown",
      "source": [
        "## Imports"
      ]
    },
    {
      "metadata": {
        "id": "nfen8HBmIXD3",
        "colab_type": "code",
        "colab": {}
      },
      "cell_type": "code",
      "source": [
        "import os, time, random,itertools\n",
        "import numpy as np\n",
        "import matplotlib.pyplot as plt\n",
        "import tensorflow as tf\n",
        "from tensorflow.examples.tutorials.mnist import input_data\n",
        "import cv2"
      ],
      "execution_count": 0,
      "outputs": []
    },
    {
      "metadata": {
        "id": "NpYy68hFIq8Y",
        "colab_type": "text"
      },
      "cell_type": "markdown",
      "source": [
        "## Load data"
      ]
    },
    {
      "metadata": {
        "id": "6Kvar8EjI9Z4",
        "colab_type": "code",
        "outputId": "71255b67-8e80-4ba2-b2f7-d90b6bcf2236",
        "colab": {
          "base_uri": "https://localhost:8080/",
          "height": 581
        }
      },
      "cell_type": "code",
      "source": [
        "IMAGE_SIZE = 28\n",
        "onehot = np.eye(10)\n",
        "noise_ = np.random.normal(0, 1, (10, 1, 1, 100))\n",
        "fixed_noise_ = noise_\n",
        "fixed_label_ = np.zeros((10, 1))\n",
        "#用于最后显示十组图像\n",
        "for i in range(9):\n",
        "    fixed_noise_ = np.concatenate([fixed_noise_, noise_], 0)\n",
        "    temp = np.ones((10, 1)) + i\n",
        "    fixed_label_ = np.concatenate([fixed_label_, temp], 0)\n",
        "fixed_label_ = onehot[fixed_label_.astype(np.int32)].reshape((100, 1, 1, 10))\n",
        "batch_size = 100\n",
        "\n",
        "#设置一个全局的计数器\n",
        "global_step = tf.Variable(0, trainable=False)\n",
        "#设置学习率\n",
        "lr = tf.train.exponential_decay(0.0002, global_step, 500, 0.95, staircase=True)\n",
        "#加载数据集Batch大小：100\n",
        "mnist = input_data.read_data_sets(\"MNIST_data/\", one_hot=True, reshape=[])\n",
        "\n",
        "\n",
        "def leaky_relu(X, leak=0.2):\n",
        "    f1 = 0.5 * (1 + leak)\n",
        "    f2 = 0.5 * (1 - leak)\n",
        "    return f1 * X + f2 * tf.abs(X)"
      ],
      "execution_count": 0,
      "outputs": [
        {
          "output_type": "stream",
          "text": [
            "WARNING:tensorflow:From /usr/local/lib/python3.6/dist-packages/tensorflow/python/framework/op_def_library.py:263: colocate_with (from tensorflow.python.framework.ops) is deprecated and will be removed in a future version.\n",
            "Instructions for updating:\n",
            "Colocations handled automatically by placer.\n",
            "WARNING:tensorflow:From <ipython-input-2-733d4063d1cc>:19: read_data_sets (from tensorflow.contrib.learn.python.learn.datasets.mnist) is deprecated and will be removed in a future version.\n",
            "Instructions for updating:\n",
            "Please use alternatives such as official/mnist/dataset.py from tensorflow/models.\n",
            "WARNING:tensorflow:From /usr/local/lib/python3.6/dist-packages/tensorflow/contrib/learn/python/learn/datasets/mnist.py:260: maybe_download (from tensorflow.contrib.learn.python.learn.datasets.base) is deprecated and will be removed in a future version.\n",
            "Instructions for updating:\n",
            "Please write your own downloading logic.\n",
            "WARNING:tensorflow:From /usr/local/lib/python3.6/dist-packages/tensorflow/contrib/learn/python/learn/datasets/base.py:252: _internal_retry.<locals>.wrap.<locals>.wrapped_fn (from tensorflow.contrib.learn.python.learn.datasets.base) is deprecated and will be removed in a future version.\n",
            "Instructions for updating:\n",
            "Please use urllib or similar directly.\n",
            "Successfully downloaded train-images-idx3-ubyte.gz 9912422 bytes.\n",
            "WARNING:tensorflow:From /usr/local/lib/python3.6/dist-packages/tensorflow/contrib/learn/python/learn/datasets/mnist.py:262: extract_images (from tensorflow.contrib.learn.python.learn.datasets.mnist) is deprecated and will be removed in a future version.\n",
            "Instructions for updating:\n",
            "Please use tf.data to implement this functionality.\n",
            "Extracting MNIST_data/train-images-idx3-ubyte.gz\n",
            "Successfully downloaded train-labels-idx1-ubyte.gz 28881 bytes.\n",
            "WARNING:tensorflow:From /usr/local/lib/python3.6/dist-packages/tensorflow/contrib/learn/python/learn/datasets/mnist.py:267: extract_labels (from tensorflow.contrib.learn.python.learn.datasets.mnist) is deprecated and will be removed in a future version.\n",
            "Instructions for updating:\n",
            "Please use tf.data to implement this functionality.\n",
            "Extracting MNIST_data/train-labels-idx1-ubyte.gz\n",
            "WARNING:tensorflow:From /usr/local/lib/python3.6/dist-packages/tensorflow/contrib/learn/python/learn/datasets/mnist.py:110: dense_to_one_hot (from tensorflow.contrib.learn.python.learn.datasets.mnist) is deprecated and will be removed in a future version.\n",
            "Instructions for updating:\n",
            "Please use tf.one_hot on tensors.\n",
            "Successfully downloaded t10k-images-idx3-ubyte.gz 1648877 bytes.\n",
            "Extracting MNIST_data/t10k-images-idx3-ubyte.gz\n",
            "Successfully downloaded t10k-labels-idx1-ubyte.gz 4542 bytes.\n",
            "Extracting MNIST_data/t10k-labels-idx1-ubyte.gz\n",
            "WARNING:tensorflow:From /usr/local/lib/python3.6/dist-packages/tensorflow/contrib/learn/python/learn/datasets/mnist.py:290: DataSet.__init__ (from tensorflow.contrib.learn.python.learn.datasets.mnist) is deprecated and will be removed in a future version.\n",
            "Instructions for updating:\n",
            "Please use alternatives such as official/mnist/dataset.py from tensorflow/models.\n"
          ],
          "name": "stdout"
        }
      ]
    },
    {
      "metadata": {
        "id": "_qMaCMk2JAoA",
        "colab_type": "text"
      },
      "cell_type": "markdown",
      "source": [
        "## Generator"
      ]
    },
    {
      "metadata": {
        "id": "0VdTQKIZJFsG",
        "colab_type": "code",
        "colab": {}
      },
      "cell_type": "code",
      "source": [
        "def Generator(x, labels, Training=True, reuse=False):\n",
        "    with tf.variable_scope('Generator', reuse=reuse):\n",
        "        #初始化参数\n",
        "        W = tf.truncated_normal_initializer(mean=0.0, stddev=0.02)\n",
        "        b = tf.constant_initializer(0.0)\n",
        "        #把数据和标签进行连接\n",
        "        concat = tf.concat([x, labels], 3)\n",
        "        #第一次反卷积,卷积核大小为7*7，输出维度256\n",
        "        out_1 = tf.layers.conv2d_transpose(concat, 256, [7, 7], strides=(1, 1), padding='valid', kernel_initializer=W, bias_initializer=b)\n",
        "        out_1 = tf.layers.batch_normalization(out_1, training=Training)#batch norm\n",
        "        out_1 = leaky_relu(out_1, 0.2)\n",
        "         #第二次反卷机，卷积核大小为5*5，输出维度128\n",
        "        out_2 = tf.layers.conv2d_transpose(out_1, 128, [5, 5], strides=(2, 2), padding='same', kernel_initializer=W, bias_initializer=b)\n",
        "        out_2 = tf.layers.batch_normalization(out_2, training=Training)#batch norm\n",
        "        out_2 = leaky_relu(out_2, 0.2)\n",
        "         #第三次反卷机，卷积核大小5*5，输出维度1\n",
        "        out_3 = tf.layers.conv2d_transpose(out_2, 1, [5, 5], strides=(2, 2), padding='same', kernel_initializer=W, bias_initializer=b)\n",
        "        out_3 = tf.nn.tanh(out_3)\n",
        "        return out_3"
      ],
      "execution_count": 0,
      "outputs": []
    },
    {
      "metadata": {
        "id": "6ajNg7X6JNRm",
        "colab_type": "text"
      },
      "cell_type": "markdown",
      "source": [
        "## Discriminator"
      ]
    },
    {
      "metadata": {
        "id": "uPGatNMnJOqa",
        "colab_type": "code",
        "colab": {}
      },
      "cell_type": "code",
      "source": [
        "def Discriminator(x, real, Training=True, reuse=False):\n",
        "    with tf.variable_scope('Discriminator', reuse=reuse):\n",
        "        #初始化参数\n",
        "        W = tf.truncated_normal_initializer(mean=0.0, stddev=0.02)\n",
        "        b = tf.constant_initializer(0.0)\n",
        "        #把数据和标签进行连接\n",
        "        concat = tf.concat([x, real], 3)\n",
        "        #第一次卷积 卷积核为5*5 输出维度为128\n",
        "        out_1 = tf.layers.conv2d(concat, 128, [5, 5], strides=(2, 2), padding='same', kernel_initializer=W, bias_initializer=b)\n",
        "        out_1 = leaky_relu(out_1, 0.2)\n",
        "        # 第二次卷积 卷积核为5*5 输出维度256\n",
        "        out_2 = tf.layers.conv2d(out_1, 256, [5, 5], strides=(2, 2), padding='same', kernel_initializer=W, bias_initializer=b)\n",
        "        out_2 = tf.layers.batch_normalization(out_2, training=Training)#batch norm\n",
        "        out_2 = leaky_relu(out_2, 0.2)\n",
        "        #第三次卷积，卷积和为7*7，输出维度为1\n",
        "        out_3 = tf.layers.conv2d(out_2, 1, [7, 7], strides=(1, 1), padding='valid', kernel_initializer=W)\n",
        "        logits = tf.nn.sigmoid(out_3)\n",
        "        return logits, out_3"
      ],
      "execution_count": 0,
      "outputs": []
    },
    {
      "metadata": {
        "id": "QiTPVdsbKjVI",
        "colab_type": "text"
      },
      "cell_type": "markdown",
      "source": [
        "## Set cDCGAN"
      ]
    },
    {
      "metadata": {
        "id": "tn3RJESPKm19",
        "colab_type": "code",
        "colab": {}
      },
      "cell_type": "code",
      "source": [
        "#一共迭代20次\n",
        "step = 15"
      ],
      "execution_count": 0,
      "outputs": []
    },
    {
      "metadata": {
        "id": "NDsDyCeCJjLo",
        "colab_type": "text"
      },
      "cell_type": "markdown",
      "source": [
        "### Placeholder"
      ]
    },
    {
      "metadata": {
        "id": "KS6W2JoVJlRC",
        "colab_type": "code",
        "colab": {}
      },
      "cell_type": "code",
      "source": [
        "x = tf.placeholder(tf.float32, shape=(None, IMAGE_SIZE, IMAGE_SIZE, 1))\n",
        "noise = tf.placeholder(tf.float32, shape=(None, 1, 1, 100))\n",
        "labels = tf.placeholder(tf.float32, shape=(None, 1, 1, 10))\n",
        "real = tf.placeholder(tf.float32, shape=(None, IMAGE_SIZE, IMAGE_SIZE, 10))\n",
        "Training = tf.placeholder(dtype=tf.bool)"
      ],
      "execution_count": 0,
      "outputs": []
    },
    {
      "metadata": {
        "id": "6370OwllJ3t2",
        "colab_type": "text"
      },
      "cell_type": "markdown",
      "source": [
        "## Loss Function"
      ]
    },
    {
      "metadata": {
        "id": "8b0WLH2nJ613",
        "colab_type": "code",
        "outputId": "a1866fde-c7e3-4e98-ad67-23081f4a6e02",
        "colab": {
          "base_uri": "https://localhost:8080/",
          "height": 170
        }
      },
      "cell_type": "code",
      "source": [
        "# 运行生成网络哦\n",
        "G_noise = Generator(noise, labels, Training)\n",
        "# 运行判别网络\n",
        "D_real, D_real_logits = Discriminator(x, real, Training)\n",
        "D_fake, D_fake_logits = Discriminator(G_noise, real, Training, reuse=True)\n",
        "# 计算每个网络的损失函数\n",
        "#算判别器真值的损失函数\n",
        "Dis_loss_real = tf.reduce_mean(tf.nn.sigmoid_cross_entropy_with_logits(logits=D_real_logits, labels=tf.ones([batch_size, 1, 1, 1])))\n",
        "#算判别器噪声生成图片的损失函数\n",
        "Dis_loss_fake = tf.reduce_mean(tf.nn.sigmoid_cross_entropy_with_logits(logits=D_fake_logits, labels=tf.zeros([batch_size, 1, 1, 1])))\n",
        "#损失函数求和\n",
        "Dis_loss = (Dis_loss_real + Dis_loss_fake) / 2\n",
        "#计算生成器的损失函数\n",
        "Gen_loss = tf.reduce_mean(tf.nn.sigmoid_cross_entropy_with_logits(logits=D_fake_logits, labels=tf.ones([batch_size, 1, 1, 1])))\n",
        "# 提取每个网络的变量\n",
        "tf_vars = tf.trainable_variables()\n",
        "Dis_vars = [var for var in tf_vars if var.name.startswith('Discriminator')]\n",
        "Gen_vars = [var for var in tf_vars if var.name.startswith('Generator')]\n",
        "# 调整参数 设计是用来控制计算流图的，给图中的某些计算指定顺序\n",
        "with tf.control_dependencies(tf.get_collection(tf.GraphKeys.UPDATE_OPS)):\n",
        "    optim = tf.train.AdamOptimizer(lr, beta1=0.5)#寻找全局最优点的优化算法，引入了二次方梯度校正 衰减率0.5\n",
        "    D_optim = optim.minimize(Dis_loss, global_step=global_step, var_list=Dis_vars)#优化更新训练的模型参数，也可以为全局步骤(global step)计数\n",
        "    G_optim = tf.train.AdamOptimizer(lr, beta1=0.5).minimize(Gen_loss, var_list=Gen_vars)#寻找全局最优点的优化算法，引入了二次方梯度校正 衰减率0.5"
      ],
      "execution_count": 0,
      "outputs": [
        {
          "output_type": "stream",
          "text": [
            "WARNING:tensorflow:From <ipython-input-3-2bb6edcb71ca>:9: conv2d_transpose (from tensorflow.python.layers.convolutional) is deprecated and will be removed in a future version.\n",
            "Instructions for updating:\n",
            "Use keras.layers.conv2d_transpose instead.\n",
            "WARNING:tensorflow:From <ipython-input-3-2bb6edcb71ca>:10: batch_normalization (from tensorflow.python.layers.normalization) is deprecated and will be removed in a future version.\n",
            "Instructions for updating:\n",
            "Use keras.layers.batch_normalization instead.\n",
            "WARNING:tensorflow:From <ipython-input-4-15c36f85c338>:9: conv2d (from tensorflow.python.layers.convolutional) is deprecated and will be removed in a future version.\n",
            "Instructions for updating:\n",
            "Use keras.layers.conv2d instead.\n"
          ],
          "name": "stdout"
        }
      ]
    },
    {
      "metadata": {
        "id": "POC9cA26KMoM",
        "colab_type": "text"
      },
      "cell_type": "markdown",
      "source": [
        "## Training Pipeline"
      ]
    },
    {
      "metadata": {
        "id": "D2rrQ0mLKQ_8",
        "colab_type": "code",
        "outputId": "bc100d55-5b30-4e51-94c2-7cb792793109",
        "colab": {
          "base_uri": "https://localhost:8080/",
          "height": 527
        }
      },
      "cell_type": "code",
      "source": [
        "# 开启一个session，\n",
        "sess = tf.InteractiveSession()\n",
        "tf.global_variables_initializer().run()\n",
        "#对MNIST做一下处理\n",
        "train_set = (mnist.train.images - 0.5) / 0.5\n",
        "train_label = mnist.train.labels\n",
        "for i in range(step):\n",
        "    Gen_losses = []\n",
        "    Dis_losses = []\n",
        "    i_start_time = time.time()\n",
        "    index = random.sample(range(0, train_set.shape[0]), train_set.shape[0])\n",
        "    new_set = train_set[index]\n",
        "    new_label = train_label[index]\n",
        "    for j in range(new_set.shape[0] // batch_size):\n",
        "        #对判别器进行更新\n",
        "        x_ = new_set[j*batch_size:(j+1)*batch_size]\n",
        "        label_ = new_label[j*batch_size:(j+1)*batch_size].reshape([batch_size, 1, 1, 10])\n",
        "        real_ = label_ * np.ones([batch_size, IMAGE_SIZE, IMAGE_SIZE, 10])\n",
        "        noise_ = np.random.normal(0, 1, (batch_size, 1, 1, 100))\n",
        "        loss_d_, _ = sess.run([Dis_loss, D_optim], {x: x_, noise: noise_, real: real_, labels: label_, Training: True})\n",
        "        #对生成器进行更新\n",
        "        noise_ = np.random.normal(0, 1, (batch_size, 1, 1, 100))\n",
        "        y_ = np.random.randint(0, 9, (batch_size, 1))\n",
        "        label_ = onehot[y_.astype(np.int32)].reshape([batch_size, 1, 1, 10])\n",
        "        real_ = label_ * np.ones([batch_size, IMAGE_SIZE, IMAGE_SIZE, 10])\n",
        "        loss_g_, _ = sess.run([Gen_loss, G_optim], {noise: noise_, x: x_, real: real_, labels: label_, Training: True})\n",
        "        #计算训练过程中的损失函数\n",
        "        errD_fake = Dis_loss_fake.eval({noise: noise_, labels: label_, real: real_, Training: False})\n",
        "        errD_real = Dis_loss_real.eval({x: x_, labels: label_, real: real_, Training: False})\n",
        "        errG = Gen_loss.eval({noise: noise_, labels: label_, real: real_, Training: False})\n",
        "        Dis_losses.append((errD_fake + errD_real)\n",
        "        Gen_losses.append(errG)\n",
        "    #print('判别器损失函数: %.6f, 生成器损失函数: %.6f' % (np.mean(Dis_losses), np.mean(Gen_losses)))\n",
        "    print(\"EPOCH {} ...\".format(i+1))\n",
        "    print(\"D_loss = {:.3f}    G_loss = {:.3f}\".format(np.mean(Dis_losses),np.mean(Gen_losses)))"
      ],
      "execution_count": 0,
      "outputs": [
        {
          "output_type": "stream",
          "text": [
            "EPOCH 1 ...\n",
            "D_loss = 1.715    G_loss = 1.198\n",
            "EPOCH 2 ...\n",
            "D_loss = 1.458    G_loss = 1.448\n",
            "EPOCH 3 ...\n",
            "D_loss = 1.640    G_loss = 1.184\n",
            "EPOCH 4 ...\n",
            "D_loss = 1.721    G_loss = 1.049\n",
            "EPOCH 5 ...\n",
            "D_loss = 1.759    G_loss = 0.925\n",
            "EPOCH 6 ...\n",
            "D_loss = 1.926    G_loss = 1.054\n",
            "EPOCH 7 ...\n",
            "D_loss = 1.842    G_loss = 0.987\n",
            "EPOCH 8 ...\n",
            "D_loss = 2.087    G_loss = 1.170\n",
            "EPOCH 9 ...\n",
            "D_loss = 2.091    G_loss = 1.205\n",
            "EPOCH 10 ...\n",
            "D_loss = 1.871    G_loss = 0.868\n",
            "EPOCH 11 ...\n",
            "D_loss = 1.914    G_loss = 0.947\n",
            "EPOCH 12 ...\n",
            "D_loss = 1.986    G_loss = 1.208\n",
            "EPOCH 13 ...\n",
            "D_loss = 1.802    G_loss = 0.832\n",
            "EPOCH 14 ...\n",
            "D_loss = 1.727    G_loss = 0.976\n",
            "EPOCH 15 ...\n",
            "D_loss = 2.226    G_loss = 1.257\n"
          ],
          "name": "stdout"
        }
      ]
    },
    {
      "metadata": {
        "id": "xRAQaJPmLPKZ",
        "colab_type": "text"
      },
      "cell_type": "markdown",
      "source": [
        "## Visualization"
      ]
    },
    {
      "metadata": {
        "id": "OfSdVjgBNg_u",
        "colab_type": "code",
        "outputId": "8d701783-863a-4eb1-cac9-217b16b67d7e",
        "colab": {
          "base_uri": "https://localhost:8080/",
          "height": 336
        }
      },
      "cell_type": "code",
      "source": [
        "def show_result(num_epoch, show = True, save = False):\n",
        "    test_images = sess.run(G_noise, {noise: fixed_noise_, labels: fixed_label_, Training: False})\n",
        "    size_figure_grid = 10\n",
        "    fig, ax = plt.subplots(size_figure_grid, size_figure_grid, figsize=(5, 5))\n",
        "    for i, j in itertools.product(range(size_figure_grid), range(size_figure_grid)):\n",
        "        ax[i, j].get_xaxis().set_visible(False)\n",
        "        ax[i, j].get_yaxis().set_visible(False)\n",
        "    for k in range(10*10):\n",
        "        i = k // 10\n",
        "        j = k % 10\n",
        "        ax[i, j].cla()\n",
        "        ax[i, j].imshow(np.reshape(test_images[k], (IMAGE_SIZE, IMAGE_SIZE)), cmap='gray')\n",
        "    label = 'Step {0}'.format(num_epoch)\n",
        "    fig.text(0.5, 0.04, label, ha='center')\n",
        "        \n",
        "    if show:\n",
        "        plt.show()\n",
        "    else:\n",
        "        plt.close()\n",
        "        \n",
        "        \n",
        "noise_ = np.random.normal(0, 1, (10, 1, 1, 100))\n",
        "fixed_noise_ = noise_\n",
        "fixed_label_ = np.zeros((10, 1))\n",
        "#用于最后显示十组图像\n",
        "for i in range(9):\n",
        "    fixed_noise_ = np.concatenate([fixed_noise_, noise_], 0)\n",
        "    temp = np.ones((10, 1)) + i\n",
        "    fixed_label_ = np.concatenate([fixed_label_, temp], 0)\n",
        "fixed_label_ = onehot[fixed_label_.astype(np.int32)].reshape((100, 1, 1, 10))\n",
        "batch_size = 100\n",
        "\n",
        "\n",
        "show_result(15)"
      ],
      "execution_count": 0,
      "outputs": [
        {
          "output_type": "display_data",
          "data": {
            "image/png": "[encoded data removed]",
            "text/plain": [
              "<Figure size 360x360 with 100 Axes>"
            ]
          },
          "metadata": {
            "tags": []
          }
        }
      ]
    }
  ]
}