{
 "cells": [
  {
   "cell_type": "markdown",
   "metadata": {
    "colab_type": "text",
    "id": "S-h9hbM6ACmg"
   },
   "source": [
    "# DCGAN\n",
    "###CW2\n",
    "\n",
    "\n"
   ]
  },
  {
   "cell_type": "markdown",
   "metadata": {
    "colab_type": "text",
    "id": "_YnXathVACmj"
   },
   "source": [
    "## Imports"
   ]
  },
  {
   "cell_type": "code",
   "execution_count": 0,
   "metadata": {
    "colab_type": "code",
    "id": "2foV5zPJACmk",
    "colab": {}
   },
   "outputs": [],
   "source": [
    "%matplotlib inline\n",
    "import matplotlib.pyplot as plt\n",
    "import tensorflow as tf\n",
    "import numpy as np\n",
    "from sklearn.utils import shuffle"
   ]
  },
  {
   "cell_type": "code",
   "execution_count": 0,
   "metadata": {
    "colab_type": "code",
    "id": "gpC54IwXACmp",
    "outputId": "812dc6f1-e78f-46e1-d398-3fa8242ba1c5",
    "executionInfo": {
     "status": "ok",
     "timestamp": 1.55165659391E12,
     "user_tz": 0.0,
     "elapsed": 3427.0,
     "user": {
      "displayName": "Cheng Ran",
      "photoUrl": "",
      "userId": "09094793715809051166"
     }
    },
    "colab": {
     "base_uri": "https://localhost:8080/",
     "height": 470.0
    }
   },
   "outputs": [
    {
     "data": {
      "text/plain": [
       "[name: \"/device:CPU:0\"\n",
       " device_type: \"CPU\"\n",
       " memory_limit: 268435456\n",
       " locality {\n",
       " }\n",
       " incarnation: 5979373002652380640, name: \"/device:XLA_CPU:0\"\n",
       " device_type: \"XLA_CPU\"\n",
       " memory_limit: 17179869184\n",
       " locality {\n",
       " }\n",
       " incarnation: 3697503247377930749\n",
       " physical_device_desc: \"device: XLA_CPU device\", name: \"/device:XLA_GPU:0\"\n",
       " device_type: \"XLA_GPU\"\n",
       " memory_limit: 17179869184\n",
       " locality {\n",
       " }\n",
       " incarnation: 3534149816802118244\n",
       " physical_device_desc: \"device: XLA_GPU device\", name: \"/device:GPU:0\"\n",
       " device_type: \"GPU\"\n",
       " memory_limit: 11276946637\n",
       " locality {\n",
       "   bus_id: 1\n",
       "   links {\n",
       "   }\n",
       " }\n",
       " incarnation: 12314278256636720059\n",
       " physical_device_desc: \"device: 0, name: Tesla K80, pci bus id: 0000:00:04.0, compute capability: 3.7\"]"
      ]
     },
     "execution_count": 2,
     "metadata": {
      "tags": []
     },
     "output_type": "execute_result"
    }
   ],
   "source": [
    "tf.__version__\n",
    "from tensorflow.python.client import device_lib\n",
    "device_lib.list_local_devices()"
   ]
  },
  {
   "cell_type": "markdown",
   "metadata": {
    "colab_type": "text",
    "id": "sjjnFsniACmt"
   },
   "source": [
    "## Load Data"
   ]
  },
  {
   "cell_type": "markdown",
   "metadata": {
    "colab_type": "text",
    "id": "KlzSZJSZACmu"
   },
   "source": [
    "The MNIST data-set is about 12 MB and will be downloaded automatically if it is not located in the given path."
   ]
  },
  {
   "cell_type": "code",
   "execution_count": 0,
   "metadata": {
    "colab_type": "code",
    "id": "0sL7pHjXACmu",
    "outputId": "2c86feec-6f83-4989-98bc-a0c8e9d584b9",
    "executionInfo": {
     "status": "ok",
     "timestamp": 1.551656599804E12,
     "user_tz": 0.0,
     "elapsed": 9302.0,
     "user": {
      "displayName": "Cheng Ran",
      "photoUrl": "",
      "userId": "09094793715809051166"
     }
    },
    "colab": {
     "base_uri": "https://localhost:8080/",
     "height": 541.0
    }
   },
   "outputs": [
    {
     "name": "stdout",
     "output_type": "stream",
     "text": [
      "WARNING:tensorflow:From <ipython-input-3-5800489d7ad1>:2: read_data_sets (from tensorflow.contrib.learn.python.learn.datasets.mnist) is deprecated and will be removed in a future version.\n",
      "Instructions for updating:\n",
      "Please use alternatives such as official/mnist/dataset.py from tensorflow/models.\n",
      "WARNING:tensorflow:From /usr/local/lib/python3.6/dist-packages/tensorflow/contrib/learn/python/learn/datasets/mnist.py:260: maybe_download (from tensorflow.contrib.learn.python.learn.datasets.base) is deprecated and will be removed in a future version.\n",
      "Instructions for updating:\n",
      "Please write your own downloading logic.\n",
      "WARNING:tensorflow:From /usr/local/lib/python3.6/dist-packages/tensorflow/contrib/learn/python/learn/datasets/base.py:252: _internal_retry.<locals>.wrap.<locals>.wrapped_fn (from tensorflow.contrib.learn.python.learn.datasets.base) is deprecated and will be removed in a future version.\n",
      "Instructions for updating:\n",
      "Please use urllib or similar directly.\n",
      "Successfully downloaded train-images-idx3-ubyte.gz 9912422 bytes.\n",
      "WARNING:tensorflow:From /usr/local/lib/python3.6/dist-packages/tensorflow/contrib/learn/python/learn/datasets/mnist.py:262: extract_images (from tensorflow.contrib.learn.python.learn.datasets.mnist) is deprecated and will be removed in a future version.\n",
      "Instructions for updating:\n",
      "Please use tf.data to implement this functionality.\n",
      "Extracting MNIST_data/train-images-idx3-ubyte.gz\n",
      "Successfully downloaded train-labels-idx1-ubyte.gz 28881 bytes.\n",
      "WARNING:tensorflow:From /usr/local/lib/python3.6/dist-packages/tensorflow/contrib/learn/python/learn/datasets/mnist.py:267: extract_labels (from tensorflow.contrib.learn.python.learn.datasets.mnist) is deprecated and will be removed in a future version.\n",
      "Instructions for updating:\n",
      "Please use tf.data to implement this functionality.\n",
      "Extracting MNIST_data/train-labels-idx1-ubyte.gz\n",
      "Successfully downloaded t10k-images-idx3-ubyte.gz 1648877 bytes.\n",
      "Extracting MNIST_data/t10k-images-idx3-ubyte.gz\n",
      "Successfully downloaded t10k-labels-idx1-ubyte.gz 4542 bytes.\n",
      "Extracting MNIST_data/t10k-labels-idx1-ubyte.gz\n",
      "WARNING:tensorflow:From /usr/local/lib/python3.6/dist-packages/tensorflow/contrib/learn/python/learn/datasets/mnist.py:290: DataSet.__init__ (from tensorflow.contrib.learn.python.learn.datasets.mnist) is deprecated and will be removed in a future version.\n",
      "Instructions for updating:\n",
      "Please use alternatives such as official/mnist/dataset.py from tensorflow/models.\n",
      "Extracting MNIST_data/train-images-idx3-ubyte.gz\n",
      "Extracting MNIST_data/train-labels-idx1-ubyte.gz\n",
      "Extracting MNIST_data/t10k-images-idx3-ubyte.gz\n",
      "Extracting MNIST_data/t10k-labels-idx1-ubyte.gz\n"
     ]
    }
   ],
   "source": [
    "from tensorflow.examples.tutorials.mnist import input_data\n",
    "mnist = input_data.read_data_sets('MNIST_data')\n",
    "\n",
    "mnist = input_data.read_data_sets(\"MNIST_data/\", reshape=False)\n",
    "X_train      = mnist.train.images\n",
    "X_validation = mnist.validation.images\n",
    "X_test       = mnist.test.images\n",
    "\n",
    "tf.reset_default_graph()"
   ]
  },
  {
   "cell_type": "markdown",
   "metadata": {
    "id": "njQspxpMlXJh",
    "colab_type": "text"
   },
   "source": [
    "## Placeholder"
   ]
  },
  {
   "cell_type": "code",
   "execution_count": 0,
   "metadata": {
    "id": "Cc20CudrlZbf",
    "colab_type": "code",
    "colab": {}
   },
   "outputs": [],
   "source": [
    "n_noise = 100\n",
    "\n",
    "X_in = tf.placeholder(dtype=tf.float32, shape=[None, 28, 28], name='X')\n",
    "noise = tf.placeholder(dtype=tf.float32, shape=[None, n_noise])\n",
    "\n",
    "keep_prob = tf.placeholder(dtype=tf.float32, name='keep_prob')\n",
    "is_training = tf.placeholder(dtype=tf.bool, name='is_training')"
   ]
  },
  {
   "cell_type": "markdown",
   "metadata": {
    "id": "w8jADzrxWSyZ",
    "colab_type": "text"
   },
   "source": [
    "## Generator"
   ]
  },
  {
   "cell_type": "code",
   "execution_count": 0,
   "metadata": {
    "colab_type": "code",
    "id": "p94ptW5DIxFw",
    "colab": {}
   },
   "outputs": [],
   "source": [
    "def generator(z, keep_prob=keep_prob, is_training=is_training):\n",
    "    activation = lrelu\n",
    "    momentum = 0.99\n",
    "    with tf.variable_scope(\"generator\", reuse=None):\n",
    "        x = z\n",
    "        d1 = 4\n",
    "        d2 = 1\n",
    "        x = tf.layers.dense(x, units=d1 * d1 * d2, activation=activation)\n",
    "        x = tf.layers.dropout(x, keep_prob)      \n",
    "        x = tf.contrib.layers.batch_norm(x, is_training=is_training, decay=momentum)  \n",
    "        x = tf.reshape(x, shape=[-1, d1, d1, d2])\n",
    "        x = tf.image.resize_images(x, size=[7, 7])\n",
    "        x = tf.layers.conv2d_transpose(x, kernel_size=5, filters=64, strides=2, padding='same', activation=activation)\n",
    "        x = tf.layers.dropout(x, keep_prob)\n",
    "        x = tf.contrib.layers.batch_norm(x, is_training=is_training, decay=momentum)\n",
    "        x = tf.layers.conv2d_transpose(x, kernel_size=5, filters=64, strides=2, padding='same', activation=activation)\n",
    "        x = tf.layers.dropout(x, keep_prob)\n",
    "        x = tf.contrib.layers.batch_norm(x, is_training=is_training, decay=momentum)\n",
    "        x = tf.layers.conv2d_transpose(x, kernel_size=5, filters=64, strides=1, padding='same', activation=activation)\n",
    "        x = tf.layers.dropout(x, keep_prob)\n",
    "        x = tf.contrib.layers.batch_norm(x, is_training=is_training, decay=momentum)\n",
    "        x = tf.layers.conv2d_transpose(x, kernel_size=5, filters=1, strides=1, padding='same', activation=tf.nn.sigmoid)\n",
    "        return x"
   ]
  },
  {
   "cell_type": "markdown",
   "metadata": {
    "id": "Hg1tEukXWc3b",
    "colab_type": "text"
   },
   "source": [
    "## Discriminator"
   ]
  },
  {
   "cell_type": "code",
   "execution_count": 0,
   "metadata": {
    "id": "ycgLDWD9WcVv",
    "colab_type": "code",
    "colab": {}
   },
   "outputs": [],
   "source": [
    "def discriminator(img_in, reuse=None, keep_prob=keep_prob):\n",
    "    activation = lrelu\n",
    "    with tf.variable_scope(\"discriminator\", reuse=reuse):\n",
    "        x = tf.reshape(img_in, shape=[-1, 28, 28, 1])\n",
    "        x = tf.layers.conv2d(x, kernel_size=5, filters=64, strides=2, padding='same', activation=activation)\n",
    "        x = tf.layers.dropout(x, keep_prob)\n",
    "        x = tf.layers.conv2d(x, kernel_size=5, filters=64, strides=1, padding='same', activation=activation)\n",
    "        x = tf.layers.dropout(x, keep_prob)\n",
    "        x = tf.layers.conv2d(x, kernel_size=5, filters=64, strides=1, padding='same', activation=activation)\n",
    "        x = tf.layers.dropout(x, keep_prob)\n",
    "        x = tf.contrib.layers.flatten(x)\n",
    "        x = tf.layers.dense(x, units=128, activation=activation)\n",
    "        x = tf.layers.dense(x, units=1, activation=tf.nn.sigmoid)\n",
    "        return x"
   ]
  },
  {
   "cell_type": "markdown",
   "metadata": {
    "id": "TAxsQhDXnaAQ",
    "colab_type": "text"
   },
   "source": [
    "## Setup GAN"
   ]
  },
  {
   "cell_type": "code",
   "execution_count": 0,
   "metadata": {
    "id": "ph1WJUM0ncHE",
    "colab_type": "code",
    "colab": {}
   },
   "outputs": [],
   "source": [
    "EPOCHS = 15\n",
    "BATCH_SIZE = 128\n",
    "# Learning rate\n",
    "Rate_G = 0.00015\n",
    "Rate_D = 0.00015"
   ]
  },
  {
   "cell_type": "markdown",
   "metadata": {
    "id": "lTlq_1jBoPGF",
    "colab_type": "text"
   },
   "source": [
    "## Loss Function"
   ]
  },
  {
   "cell_type": "code",
   "execution_count": 0,
   "metadata": {
    "id": "CRt4ZteFoR5C",
    "colab_type": "code",
    "outputId": "a7f8983a-6e31-47ed-f27d-40dfcdf6f4ba",
    "executionInfo": {
     "status": "ok",
     "timestamp": 1.551656602717E12,
     "user_tz": 0.0,
     "elapsed": 12152.0,
     "user": {
      "displayName": "Cheng Ran",
      "photoUrl": "",
      "userId": "09094793715809051166"
     }
    },
    "colab": {
     "base_uri": "https://localhost:8080/",
     "height": 339.0
    }
   },
   "outputs": [
    {
     "name": "stdout",
     "output_type": "stream",
     "text": [
      "WARNING:tensorflow:From <ipython-input-5-c40764d9ba14>:8: dense (from tensorflow.python.layers.core) is deprecated and will be removed in a future version.\n",
      "Instructions for updating:\n",
      "Use keras.layers.dense instead.\n",
      "WARNING:tensorflow:From /usr/local/lib/python3.6/dist-packages/tensorflow/python/framework/op_def_library.py:263: colocate_with (from tensorflow.python.framework.ops) is deprecated and will be removed in a future version.\n",
      "Instructions for updating:\n",
      "Colocations handled automatically by placer.\n",
      "WARNING:tensorflow:From <ipython-input-5-c40764d9ba14>:9: dropout (from tensorflow.python.layers.core) is deprecated and will be removed in a future version.\n",
      "Instructions for updating:\n",
      "Use keras.layers.dropout instead.\n",
      "WARNING:tensorflow:From <ipython-input-5-c40764d9ba14>:13: conv2d_transpose (from tensorflow.python.layers.convolutional) is deprecated and will be removed in a future version.\n",
      "Instructions for updating:\n",
      "Use keras.layers.conv2d_transpose instead.\n",
      "WARNING:tensorflow:From <ipython-input-6-f1d32c3046d4>:5: conv2d (from tensorflow.python.layers.convolutional) is deprecated and will be removed in a future version.\n",
      "Instructions for updating:\n",
      "Use keras.layers.conv2d instead.\n",
      "WARNING:tensorflow:From /usr/local/lib/python3.6/dist-packages/tensorflow/contrib/layers/python/layers/layers.py:1624: flatten (from tensorflow.python.layers.core) is deprecated and will be removed in a future version.\n",
      "Instructions for updating:\n",
      "Use keras.layers.flatten instead.\n"
     ]
    }
   ],
   "source": [
    "def lrelu(x):\n",
    "    return tf.maximum(x, tf.multiply(x, 0.2))\n",
    "\n",
    "def binary_cross_entropy(x, z):\n",
    "    eps = 1e-12\n",
    "    return (-(x * tf.log(z + eps) + (1. - x) * tf.log(1. - z + eps)))\n",
    "\n",
    "g = generator(noise, keep_prob, is_training)\n",
    "d_real = discriminator(X_in)\n",
    "d_fake = discriminator(g, reuse=True)\n",
    "\n",
    "vars_g = [var for var in tf.trainable_variables() if var.name.startswith(\"generator\")]\n",
    "vars_d = [var for var in tf.trainable_variables() if var.name.startswith(\"discriminator\")]\n",
    "\n",
    "\n",
    "d_reg = tf.contrib.layers.apply_regularization(tf.contrib.layers.l2_regularizer(1e-6), vars_d)\n",
    "g_reg = tf.contrib.layers.apply_regularization(tf.contrib.layers.l2_regularizer(1e-6), vars_g)\n",
    "\n",
    "loss_d_real = binary_cross_entropy(tf.ones_like(d_real), d_real)\n",
    "loss_d_fake = binary_cross_entropy(tf.zeros_like(d_fake), d_fake)\n",
    "loss_g = tf.reduce_mean(binary_cross_entropy(tf.ones_like(d_fake), d_fake))\n",
    "loss_d = tf.reduce_mean(0.5 * (loss_d_real + loss_d_fake))\n",
    "\n",
    "update_ops = tf.get_collection(tf.GraphKeys.UPDATE_OPS)\n",
    "with tf.control_dependencies(update_ops):\n",
    "    optimizer_d = tf.train.RMSPropOptimizer(learning_rate=Rate_D).minimize(loss_d + d_reg, var_list=vars_d)\n",
    "    optimizer_g = tf.train.RMSPropOptimizer(learning_rate=Rate_G).minimize(loss_g + g_reg, var_list=vars_g)    "
   ]
  },
  {
   "cell_type": "markdown",
   "metadata": {
    "colab_type": "text",
    "id": "pWNmsAnAJUPX"
   },
   "source": [
    "#Training Pipeline\n",
    "Create a training pipeline that uses the model to classify MNIST data.\n",
    "\n",
    " "
   ]
  },
  {
   "cell_type": "code",
   "execution_count": 0,
   "metadata": {
    "colab_type": "code",
    "id": "6aa43FvOJarb",
    "outputId": "cf1eae20-b08a-45a4-9955-dc7b5a95dabd",
    "executionInfo": {
     "status": "ok",
     "timestamp": 1.551656715068E12,
     "user_tz": 0.0,
     "elapsed": 124493.0,
     "user": {
      "displayName": "Cheng Ran",
      "photoUrl": "",
      "userId": "09094793715809051166"
     }
    },
    "colab": {
     "base_uri": "https://localhost:8080/",
     "height": 168.0
    }
   },
   "outputs": [
    {
     "name": "stdout",
     "output_type": "stream",
     "text": [
      "EPOCH 1 ...\n",
      "G Loss = 1.628\n",
      "D Loss = 0.809\n",
      "\n",
      "EPOCH 2 ...\n",
      "G Loss = 1.205\n",
      "D Loss = 0.612\n",
      "\n",
      "Model saved\n"
     ]
    }
   ],
   "source": [
    "X_train = X_train[:,:,:,0]\n",
    "num_examples = len(X_train) \n",
    "k = num_examples % BATCH_SIZE\n",
    "num_examples = num_examples - k\n",
    "saver = tf.train.Saver()\n",
    "\n",
    "with tf.Session() as sess:\n",
    "    sess.run(tf.global_variables_initializer())\n",
    "\n",
    "\n",
    "    for i in range(EPOCHS):                        \n",
    "        X_train = shuffle(X_train)      \n",
    "        for offset in range(0, num_examples, BATCH_SIZE):\n",
    "            train_d = True\n",
    "            train_g = True\n",
    "            keep_prob_train = 0.6 # 0.5\n",
    "            \n",
    "            n = np.random.uniform(0.0, 1.0, [BATCH_SIZE, n_noise]).astype(np.float32) \n",
    "            end = offset + BATCH_SIZE\n",
    "            batch = X_train[offset:end] \n",
    "            batch = np.array(batch).tolist()\n",
    "            d_real_ls, d_fake_ls, g_ls, d_ls = sess.run([loss_d_real, loss_d_fake, loss_g, loss_d], \n",
    "                                                        feed_dict={X_in: batch, noise: n, keep_prob: keep_prob_train, is_training:True})\n",
    "    \n",
    "            d_real_ls = np.mean(d_real_ls)\n",
    "            d_fake_ls = np.mean(d_fake_ls)\n",
    "            g_ls = g_ls\n",
    "            d_ls = d_ls\n",
    "    \n",
    "            if g_ls * 1.5 < d_ls:\n",
    "                train_g = False\n",
    "                pass\n",
    "            if d_ls * 2 < g_ls:\n",
    "                train_d = False\n",
    "                pass\n",
    "    \n",
    "            if train_d:\n",
    "                sess.run(optimizer_d, feed_dict={noise: n, X_in: batch, keep_prob: keep_prob_train, is_training:True})\n",
    "                \n",
    "            if train_g:\n",
    "                sess.run(optimizer_g, feed_dict={noise: n, keep_prob: keep_prob_train, is_training:True})\n",
    "\n",
    "        if ((i+1)%2 == 0)or(i==0):\n",
    "            print(\"EPOCH {} ...\".format(i+1))\n",
    "            print(\"G Loss = {:.3f}\".format(g_ls))\n",
    "            print(\"D Loss = {:.3f}\".format(d_ls))\n",
    "            print()\n",
    "    saver.save(sess, './lenet')\n",
    "    print(\"Model saved\")"
   ]
  },
  {
   "cell_type": "markdown",
   "metadata": {
    "id": "XFQsCCCfanU1",
    "colab_type": "text"
   },
   "source": [
    "# visualisations"
   ]
  },
  {
   "cell_type": "code",
   "execution_count": 0,
   "metadata": {
    "id": "DcNXE_9_f2aS",
    "colab_type": "code",
    "outputId": "b1fe4117-a79a-4550-afc6-5cdcdcb15c12",
    "executionInfo": {
     "status": "ok",
     "timestamp": 1.551656903641E12,
     "user_tz": 0.0,
     "elapsed": 2122.0,
     "user": {
      "displayName": "Cheng Ran",
      "photoUrl": "",
      "userId": "09094793715809051166"
     }
    },
    "colab": {
     "base_uri": "https://localhost:8080/",
     "height": 285.0
    }
   },
   "outputs": [
    {
     "name": "stdout",
     "output_type": "stream",
     "text": [
      "INFO:tensorflow:Restoring parameters from ./lenet\n"
     ]
    },
    {
     "data": {
      "image/png": "[encoded data removed]",
      "text/plain": [
       "<Figure size 432x288 with 9 Axes>"
      ]
     },
     "metadata": {
      "tags": []
     },
     "output_type": "display_data"
    }
   ],
   "source": [
    "def plot_images(images):\n",
    "    assert len(images) == 9\n",
    "    img_shape = (28, 28)\n",
    "    \n",
    "    # Create figure with 3x3 sub-plots.\n",
    "    fig, axes = plt.subplots(3, 3)\n",
    "    fig.subplots_adjust(hspace=0.3, wspace=0.3)\n",
    "\n",
    "    for i, ax in enumerate(axes.flat):\n",
    "        # Plot image.\n",
    "        ax.imshow(images[i].reshape(img_shape), cmap='binary')\n",
    "        \n",
    "    plt.show()\n",
    "     \n",
    "with tf.Session() as sess:\n",
    "    saver.restore(sess, tf.train.latest_checkpoint('.'))\n",
    "    n = np.random.uniform(0.0, 1.0, [BATCH_SIZE, n_noise]).astype(np.float32) \n",
    "    imgs = sess.run(g, feed_dict = {noise: n, keep_prob: 1.0, is_training:False})    \n",
    "    images = np.array(imgs)\n",
    "    plot_images(images=images[0:9])\n",
    "\n",
    "#img_shape = (28, 28)\n",
    "#plt.imshow(images[2].reshape(img_shape), cmap='binary')"
   ]
  }
 ],
 "metadata": {
  "colab": {
   "name": "DCGAN.ipynb",
   "version": "0.3.2",
   "provenance": [],
   "collapsed_sections": []
  },
  "kernelspec": {
   "display_name": "Python 3",
   "language": "python",
   "name": "python3"
  },
  "accelerator": "GPU"
 },
 "nbformat": 4,
 "nbformat_minor": 0
}
